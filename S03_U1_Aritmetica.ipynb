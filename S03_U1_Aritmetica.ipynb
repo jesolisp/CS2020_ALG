{
 "cells": [
  {
   "cell_type": "markdown",
   "metadata": {},
   "source": [
    "![logoupemor](pictures/UPE_Firma_vert_morada-01.png)\n",
    "\n",
    "---"
   ]
  },
  {
   "cell_type": "markdown",
   "metadata": {},
   "source": [
    "# Álgebra\n",
    "## Curso de Selección 2020\n",
    "\n",
    "### Profr. Jesús Emmanuel Solís Pérez (jsolis@upemor.edu.mx)\n",
    "---"
   ]
  },
  {
   "cell_type": "markdown",
   "metadata": {},
   "source": [
    "# Unidad I. Aritmética\n",
    "\n",
    "\n",
    "## Contenido\n",
    "- Operaciones básicas\n",
    "- Simplificación\n",
    "- Abstracción"
   ]
  },
  {
   "cell_type": "markdown",
   "metadata": {},
   "source": [
    "## Sesión 3. Exponentes y sus propiedades\n",
    "\n",
    "Los exponentes enteros permiten representar la multiplicación repetida de un número real, es decir:\n",
    "\n",
    "$$\n",
    " 3^{4} = 3 \\cdot 3 \\cdot 3 \\cdot 3 = 81.\n",
    "$$\n",
    "\n",
    "Sea $a$ un número real y $n$ un entero positivo, entonces $a^{n}$ representa el producto de $n$ factores de $a$\n",
    "\n",
    "$$\n",
    " a^{n} = \\underbrace{a\\cdot a\\cdot \\cdots \\cdot a}_{factores\\ n},\n",
    "$$\n",
    "donde $a=a^{1}$.\n",
    "\n",
    "En la expresión anterior, $a$ es conocido como la **base** y $n$ el **exponente** o **potencia**.\n",
    "\n",
    "$$\n",
    " 4\\cdot 3^{2} = 4\\cdot 9 = 36.\n",
    "$$\n",
    "\n",
    "$$\n",
    " 2^{2} + 3^{2} = 4 + 9 = 13.\n",
    "$$\n",
    "\n",
    "$$\n",
    " -2^{4} = -16.\n",
    "$$\n",
    "\n",
    "$$\n",
    " 5\\cdot 3^{2} + 2\\cdot 4 = 5 \\cdot 9 + 2\\cdot 4 = 45 + 8 = 53.\n",
    "$$\n",
    "\n",
    "Ten en cuenta que los paréntesis pueden marcar la diferencia\n",
    "\n",
    "$$\n",
    " (-2)^{4} = (-2)(-2)(-2)(-2) = 16.\n",
    "$$\n",
    "\n",
    "$$\n",
    " (2+3)^{2} = 5^{2} = 25\n",
    "$$\n",
    "\n",
    "### Propiedades y leyes de exponentes\n",
    "\n",
    "$$\n",
    " \\begin{aligned}\n",
    "  a^{0} &= 1, \\quad si\\ a\\neq 0. \\\\\n",
    "  a^{-n} &= \\frac{1}{a^{n}}, \\quad si\\ a\\neq 0. \\\\\n",
    "  a^{m}a^{n} &= a^{m+n}. \\\\\n",
    "  \\left(a^{m} \\right)^{n} &= a^{mn} \\\\\n",
    "  \\left(ab\\right)^{n} &= a^{n}b^{n} \\\\\n",
    "  \\frac{a^{m}}{a^{n}} = a^{m-n} &= \\frac{1}{a^{n-m}},\\quad si~a \\neq 0. \\\\\n",
    "  \\left( \\frac{a}{b} \\right)^{n} &= \\frac{a^{n}}{b^{n}},\\quad si\\ b\\neq 0. \\\\\n",
    " \\end{aligned}\n",
    "$$\n",
    "\n",
    "### Raíces cuadradas\n",
    "\n",
    "La raíz cuadrada es la operación inversa de elevar al cuadrado un número real. Esta operación está denotada por el símbolo $\\sqrt{\\ \\ }$. Por ejemplo, $\\sqrt{25} = 5$.\n",
    "\n",
    "#### Notas importantes\n",
    "1. Los números negativos no tienen raíces cuadradas (números reales).\n",
    "2. La raíz cuadrada de $0$ es $0$.\n",
    "3. La raíz cuadrada de un número positivo es positiva.\n",
    "4. Si $c\\geq 0$, entonces $\\left( \\sqrt{c} \\right)^{2} = c$.\n",
    "\n",
    "$$\n",
    " \\begin{aligned}\n",
    "  \\sqrt{\\frac{1}{16}} &= \\frac{1}{4} \\\\\n",
    "  \\left( \\sqrt{1.4} \\right)^{2} &= 1.4\n",
    " \\end{aligned}\n",
    "$$\n",
    "\n",
    "#### Propiedades\n",
    "\n",
    "$$\n",
    " \\begin{aligned}\n",
    "  \\sqrt{a^{2}} &= |a|. \\\\\n",
    "  \\sqrt[n]{a} &= a^{\\frac{1}{n}}. \\\\\n",
    "  \\sqrt[n]{a^{m}} &= a^{\\frac{m}{n}}.\n",
    " \\end{aligned}\n",
    "$$"
   ]
  },
  {
   "cell_type": "markdown",
   "metadata": {},
   "source": [
    "### Simplificación de expresiones\n",
    "\n",
    "$$\n",
    " \\begin{aligned}\n",
    "  2^{-3} &= \\frac{1}{2^{3}} = \\frac{1}{8} \\\\\n",
    "  x^{-3}\\cdot x^{5} &= x^{-3+5} = x^{2}, \\quad x \\neq 0. \\\\\n",
    "  \\left( x^{-3} \\right)^{2} &= x^{-3\\cdot 2} = x^{-6} = \\frac{1}{x^{6}}, \\quad x \\neq 0. \\\\\n",
    "  \\left( \\frac{2}{3} \\right)^{4} &= \\frac{2^{4}}{3^{4}} = \\frac{16}{81}. \\\\\n",
    "  \\frac{x^{-2}}{x^{-5}} &= x^{-2}\\cdot x^{-5} = x^{-2-(-5)} = x^{3}, \\quad x \\neq 0. \\\\\n",
    "  \\left( \\frac{x^{-3}}{3y^{-1}} \\right)^{-2} &= \\frac{\\left(x^{-3} \\right)^{-2}}{\\left(3y^{-1} \\right)^{-2}} =  \\frac{x^{6}}{3^{-2}\\left( y^{-1} \\right)^{-2}} = \\frac{x^{6}}{\\frac{1}{9}y^{2}} = \\frac{9x^{6}}{y^{2}}. \\\\\n",
    " \\end{aligned}\n",
    "$$"
   ]
  },
  {
   "cell_type": "markdown",
   "metadata": {},
   "source": [
    "## Videos complementarios\n",
    "1. [Leyes de los exponentes](https://www.youtube.com/watch?v=CfbspxOf0lA)\n",
    "2. [Ejercicios con leyes de los exponentes](https://www.youtube.com/watch?v=Zavfhc4_bEA)"
   ]
  },
  {
   "cell_type": "markdown",
   "metadata": {},
   "source": [
    "# Material de consulta\n",
    "\n",
    "1. Baldor, A. (2007). Álgebra. México DF: Grupo Patria Cultural.\n",
    "2. [Apolinar, E. S. (2011). Diccionario ilustrado de conceptos matemáticos. México: www.aprendematematicas.org.mx](http://wordpress.colegio-arcangel.com/matematicas/files/2012/10/DICM.pdf)"
   ]
  }
 ],
 "metadata": {
  "kernelspec": {
   "display_name": "Maxima",
   "language": "maxima",
   "name": "maxima"
  },
  "language_info": {
   "codemirror_mode": "maxima",
   "file_extension": ".mac",
   "mimetype": "text/x-maxima",
   "name": "maxima",
   "pygments_lexer": "maxima",
   "version": "5.44.0"
  }
 },
 "nbformat": 4,
 "nbformat_minor": 4
}
