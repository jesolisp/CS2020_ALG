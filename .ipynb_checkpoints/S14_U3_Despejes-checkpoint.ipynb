{
 "cells": [
  {
   "cell_type": "markdown",
   "metadata": {},
   "source": [
    "![logoupemor](pictures/UPE_Firma_vert_morada-01.png)\n",
    "\n",
    "---"
   ]
  },
  {
   "cell_type": "markdown",
   "metadata": {},
   "source": [
    "# Álgebra\n",
    "## Curso de Selección 2020\n",
    "\n",
    "### Profr. Jesús Emmanuel Solís Pérez (jsolis@upemor.edu.mx)\n",
    "---"
   ]
  },
  {
   "cell_type": "markdown",
   "metadata": {},
   "source": [
    "# Unidad III. Despejes\n",
    "\n",
    "\n",
    "## Contenido\n",
    "- Factorización\n",
    "- Despejes\n",
    "- Problemas"
   ]
  },
  {
   "cell_type": "markdown",
   "metadata": {},
   "source": [
    "## Traducción de problemas al lenguaje algebraico con resolución a través de despejes\n",
    "\n",
    "### Ejemplo 1\n",
    "\n",
    "Un triángulo rectángulo tienen un área de $40 cm^{2}$ y su hipotenusa es $2cm$ más larga que uno de los catetos.\n",
    "\n",
    "1. Si $x$ denota la longitud de ese cateto, demuestre que $2x^{3} + x^{2} - 3600 = 0$.\n",
    "2. Pruebe que la ecuación anterior sólo tiene una raíz positiva.\n",
    "3. Encuentre las dimensiones del triángulo rectángulo y compruebe los resultados obtenidos."
   ]
  },
  {
   "cell_type": "markdown",
   "metadata": {},
   "source": [
    "### Ejemplo 2\n",
    "\n",
    "La base de un rectángulo es el doble de la altura disminuida en $5$. Además, su perímetro es mayor o igual que $72$. Encuentre las dimensiones del rectángulo."
   ]
  },
  {
   "cell_type": "markdown",
   "metadata": {},
   "source": [
    "## Videos de consulta"
   ]
  },
  {
   "cell_type": "markdown",
   "metadata": {},
   "source": [
    "# Material de consulta\n",
    "\n",
    "1. Baldor, A. (2007). Álgebra. México DF: Grupo Patria Cultural.\n",
    "2. [Apolinar, E. S. (2011). Diccionario ilustrado de conceptos matemáticos. México: www.aprendematematicas.org.mx](http://wordpress.colegio-arcangel.com/matematicas/files/2012/10/DICM.pdf)"
   ]
  }
 ],
 "metadata": {
  "kernelspec": {
   "display_name": "Maxima",
   "language": "maxima",
   "name": "maxima"
  },
  "language_info": {
   "codemirror_mode": "maxima",
   "file_extension": ".mac",
   "mimetype": "text/x-maxima",
   "name": "maxima",
   "pygments_lexer": "maxima",
   "version": "5.44.0"
  }
 },
 "nbformat": 4,
 "nbformat_minor": 4
}
