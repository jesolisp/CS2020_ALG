{
 "cells": [
  {
   "cell_type": "markdown",
   "metadata": {},
   "source": [
    "![logoupemor](pictures/UPE_Firma_vert_morada-01.png)\n",
    "\n",
    "---"
   ]
  },
  {
   "cell_type": "markdown",
   "metadata": {},
   "source": [
    "# Álgebra\n",
    "## Curso de Selección 2020\n",
    "\n",
    "### Profr. Jesús Emmanuel Solís Pérez (jsolis@upemor.edu.mx)\n",
    "---"
   ]
  },
  {
   "cell_type": "markdown",
   "metadata": {},
   "source": [
    "# Unidad III. Despejes\n",
    "\n",
    "\n",
    "## Contenido\n",
    "- Factorización\n",
    "- Despejes\n",
    "- Problemas"
   ]
  },
  {
   "cell_type": "markdown",
   "metadata": {},
   "source": [
    "## Despejes en estructuras algebráicas complejas"
   ]
  },
  {
   "cell_type": "markdown",
   "metadata": {},
   "source": [
    "## Videos de consulta\n",
    "\n",
    "1. [Cómo despejar una variable](https://www.youtube.com/watch?v=HfJU0z7Sb6A)\n",
    "2. [Cómo despejar fórmulas](https://www.youtube.com/watch?v=vZoZJfdeB58)\n",
    "3. [Ecuaciones de primer grado con fracciones, pt. 1](https://www.youtube.com/watch?v=u4tDGiwOonA)\n",
    "4. [Ecuaciones de primer grado con fracciones, pt. 2](https://www.youtube.com/watch?v=IieX53WEdBA)\n",
    "5. [Ecuaciones de primer grado con fracciones, pt. 3](https://www.youtube.com/watch?v=iCIa7Zr0uu8)"
   ]
  },
  {
   "cell_type": "markdown",
   "metadata": {},
   "source": [
    "# Material de consulta\n",
    "\n",
    "1. Baldor, A. (2007). Álgebra. México DF: Grupo Patria Cultural.\n",
    "2. [Apolinar, E. S. (2011). Diccionario ilustrado de conceptos matemáticos. México: www.aprendematematicas.org.mx](http://wordpress.colegio-arcangel.com/matematicas/files/2012/10/DICM.pdf)"
   ]
  }
 ],
 "metadata": {
  "kernelspec": {
   "display_name": "Maxima",
   "language": "maxima",
   "name": "maxima"
  },
  "language_info": {
   "codemirror_mode": "maxima",
   "file_extension": ".mac",
   "mimetype": "text/x-maxima",
   "name": "maxima",
   "pygments_lexer": "maxima",
   "version": "5.44.0"
  }
 },
 "nbformat": 4,
 "nbformat_minor": 4
}
