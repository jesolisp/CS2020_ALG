{
 "cells": [
  {
   "cell_type": "markdown",
   "metadata": {},
   "source": [
    "![logoupemor](pictures/UPE_Firma_vert_morada-01.png)\n",
    "\n",
    "---"
   ]
  },
  {
   "cell_type": "markdown",
   "metadata": {},
   "source": [
    "# Álgebra\n",
    "## Curso de Selección 2020\n",
    "\n",
    "### Profr. Jesús Emmanuel Solís Pérez (jsolis@upemor.edu.mx)\n",
    "---"
   ]
  },
  {
   "cell_type": "markdown",
   "metadata": {},
   "source": [
    "# Unidad II. Álgebra básica\n",
    "\n",
    "\n",
    "## Contenido\n",
    "- Sumas y restas de polinomios\n",
    "- Productos de polinomios\n",
    "- División de polinomios"
   ]
  },
  {
   "cell_type": "markdown",
   "metadata": {},
   "source": [
    "## Productos de polinomios\n",
    "\n",
    "* **Ejemplo 1.** Dado lo siguiente $\\left(3x^{2} \\right) \\left(-x^{3} y \\right) \\left(-a^{2}x \\right)$, encontrar el resultado\n",
    "    * Tomamos primero $\\left(3x^{2} \\right) \\left(-x^{3} y \\right)$ y resolvemos\n",
    "    $$\n",
    "     \\left(3x^{2} \\right) \\left(-x^{3} y \\right) = -3x^{5}y\n",
    "    $$\n",
    "    \n",
    "    * El resultado, lo multiplicamos por $\\left(-a^{2}x \\right)$. Esto es\n",
    "    $$\n",
    "     \\left( -3x^{5}y \\right)\\left(-a^{2}x \\right) = 3a^{2}x^{6}y\n",
    "    $$\n",
    "    \n",
    "    * Por lo tanto, el resultado de $\\left(3x^{2} \\right) \\left(-x^{3} y \\right) \\left(-a^{2}x \\right) = 3a^{2}x^{6}y$."
   ]
  },
  {
   "cell_type": "markdown",
   "metadata": {},
   "source": [
    "* **Ejemplo 2.** Dado lo siguiente $\\left(\\frac{1}{2}x^{4} \\right)\\left(-\\frac{2}{3}a^{2}x\\right)\\left(-\\frac{3}{5}a^{4}m \\right)$, encontrar el resultado\n",
    "\n",
    "    * Al igual que en el ejemplo anterior, tomamos primero $\\left(\\frac{1}{2}x^{4} \\right)\\left(-\\frac{2}{3}a^{2}x\\right)$ y resolvemos\n",
    "    \n",
    "    $$\n",
    "     \\left(\\frac{1}{2}x^{4} \\right)\\left(-\\frac{2}{3}a^{2}x\\right) = -\\frac{1}{2}\\cdot \\frac{2}{3}a^{2}x^{5} = \\frac{2}{6}a^{2}x^{5} = \\frac{1}{3}a^{2}x^{5}\n",
    "    $$\n",
    "    \n",
    "    * Multiplicamos el resultado por $\\left(-\\frac{3}{5}a^{4}m \\right)$\n",
    "    \n",
    "    $$\n",
    "     \\left(-\\frac{3}{5}a^{4}m \\right)\\frac{1}{3}a^{2}x^{5} = -\\frac{3}{5}\\cdot \\frac{1}{3}a^{6}mx^{5} = -\\frac{3}{15}a^{6}mx^{5} = -\\frac{1}{5}a^{6}mx^{5}.\n",
    "    $$\n",
    "    \n",
    "    * $\\therefore \\left(\\frac{1}{2}x^{4} \\right)\\left(-\\frac{2}{3}a^{2}x\\right)\\left(-\\frac{3}{5}a^{4}m \\right) = -\\frac{1}{5}a^{6}mx^{5}.$"
   ]
  },
  {
   "cell_type": "markdown",
   "metadata": {},
   "source": [
    "* **Ejemplo 3.** Dado lo siguiente $\\left(5xy^{2} \\right)\\sqrt{x^{2} + y^{2}}\\left(x^{2} + y^{2} \\right)$, encontrar el resultado\n",
    "\n",
    "    1. Identificamos los términos involucrados en esta multiplicación\n",
    "    \n",
    "    $$\n",
    "     \\sqrt{x^{2} + y^{2}} = \\left( x^{2} + y^{2} \\right)^{\\frac{1}{2}}\n",
    "    $$\n",
    "    \n",
    "    2. Observamos que tenemos dos términos con exponentes diferentes pero la misma base. Esto es\n",
    "    \n",
    "    $$\n",
    "     \\left( x^{2} + y^{2} \\right)^{\\frac{1}{2}} \\left(x^{2} + y^{2} \\right)\n",
    "    $$\n",
    "    \n",
    "    3. Observamos que el segundo binomio tiene exponente $1$, para que podamos sumarlo con $1/2$ entonces reescribimos lo anterio de la siguiente manera\n",
    "    \n",
    "    $$\n",
    "     \\left( x^{2} + y^{2} \\right)^{\\frac{1}{2}} \\left(x^{2} + y^{2} \\right)^{\\frac{2}{2}} = \\left(x^{2} + y^{2} \\right)^{\\frac{3}{2}}\n",
    "    $$\n",
    "    \n",
    "    4. Finalmente multiplicamos el resultado por $\\left(5xy^{2} \\right)$. Esto es\n",
    "    \n",
    "    $$\n",
    "     \\left(5xy^{2} \\right) \\left(x^{2} + y^{2} \\right)^{\\frac{3}{2}}.\n",
    "    $$"
   ]
  },
  {
   "cell_type": "markdown",
   "metadata": {},
   "source": [
    "### Ejercicios en clase\n",
    "\n",
    "1. $\\sqrt[3]{2 + x}\\cdot \\left(x^{2} - 1 \\right)$\n",
    "\n",
    "2. $\\sqrt[4]{x^{2} - x^{4}}\\cdot \\left(\\frac{1}{2}x - x^{2} \\right)$\n",
    "\n",
    "3. $\\sqrt{\\frac{2}{3}x}\\cdot \\left(1 + 5x \\right)$\n",
    "\n",
    "4. $\\sqrt{\\frac{2}{3}x - 2}\\cdot \\sqrt{3 - \\frac{1}{2}x^{2}}$\n",
    "\n",
    "5. $\\sqrt{x + 2}\\cdot \\sqrt{\\left(x + 2 \\right)^{2}} \\cdot \\sqrt[4]{x + 2}$"
   ]
  },
  {
   "cell_type": "markdown",
   "metadata": {},
   "source": [
    "## Videos de consulta\n",
    "\n",
    "1. [Productos notables](https://www.youtube.com/watch?v=I1L8F3o93q0)\n",
    "2. [Cómo multiplicar binomios y polinomios](https://www.youtube.com/watch?v=ZHfq-9LrAsA)\n",
    "3. [Multiplicación de polinomios](https://www.youtube.com/watch?v=hlyBPkEJmXc)"
   ]
  },
  {
   "cell_type": "markdown",
   "metadata": {},
   "source": [
    "# Material de consulta\n",
    "\n",
    "1. Baldor, A. (2007). Álgebra. México DF: Grupo Patria Cultural.\n",
    "2. [Apolinar, E. S. (2011). Diccionario ilustrado de conceptos matemáticos. México: www.aprendematematicas.org.mx](http://wordpress.colegio-arcangel.com/matematicas/files/2012/10/DICM.pdf)"
   ]
  }
 ],
 "metadata": {
  "kernelspec": {
   "display_name": "Maxima",
   "language": "maxima",
   "name": "maxima"
  },
  "language_info": {
   "codemirror_mode": "maxima",
   "file_extension": ".mac",
   "mimetype": "text/x-maxima",
   "name": "maxima",
   "pygments_lexer": "maxima",
   "version": "5.44.0"
  }
 },
 "nbformat": 4,
 "nbformat_minor": 4
}
