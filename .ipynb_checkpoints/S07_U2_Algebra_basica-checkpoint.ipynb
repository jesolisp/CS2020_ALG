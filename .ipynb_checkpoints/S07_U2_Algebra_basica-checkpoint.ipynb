{
 "cells": [
  {
   "cell_type": "markdown",
   "metadata": {},
   "source": [
    "![logoupemor](pictures/UPE_Firma_vert_morada-01.png)\n",
    "\n",
    "---"
   ]
  },
  {
   "cell_type": "markdown",
   "metadata": {},
   "source": [
    "# Álgebra\n",
    "## Curso de Selección 2020\n",
    "\n",
    "### Profr. Jesús Emmanuel Solís Pérez (jsolis@upemor.edu.mx)\n",
    "---"
   ]
  },
  {
   "cell_type": "markdown",
   "metadata": {},
   "source": [
    "# Unidad II. Álgebra básica\n",
    "\n",
    "\n",
    "## Contenido\n",
    "- Sumas y restas de polinomios\n",
    "- Productos de polinomios\n",
    "- División de polinomios"
   ]
  },
  {
   "cell_type": "markdown",
   "metadata": {},
   "source": [
    "## Productos de polinomios\n",
    "\n",
    "Primero recordemos qué es un monomio ¿cómo podemos multiplicarlos?\n",
    "\n",
    "Supongamos que tenemos $ax^{n} \\cdot bx^{m}$. El resultado de multiplicarlos sería \n",
    "\n",
    "$$\n",
    " ax^{n} \\cdot bx^{m} = abx^{n+m}.\n",
    "$$\n",
    "\n",
    "Ahora bien, cuando tenemos polinomios cada término del primer factor se multiplica por todos los términos del segundo factor como se aprecia en la siguiente imagen\n",
    "\n",
    "![multiplicacion_polinomio](pictures/multiplicacion_polinomio.jpg)\n",
    "\n",
    "Donde el $grado\\left\\{p(x)\\cdot g(x) \\right\\} = grado\\left\\{p(x)\\right\\} + grado\\left\\{g(x) \\right\\}$.\n",
    "\n",
    "**Ejemplo.** Sea $p(x) = 2x^{2} + 5x - 6$ y $q(x) = 3x^{2} - 6x + 3$ obtenga el producto de $p(x)\\cdot q(x)$.\n",
    "\n",
    "1. Obtenemos el grado del polinomio resultante. Entonces $grado\\left\\{p(x)\\right\\} = 2$ y $grado\\left\\{q(x)\\right\\} = 2$, por lo tanto $grado\\left\\{p(x)\\cdot g(x) \\right\\} = 4$.\n",
    "\n",
    "2. Tomamos el primer término del polinomio $p(x)$ y lo multiplicamos por cada uno de los términos de $q(x)$\n",
    "\n",
    "$$\n",
    " \\left(2x^{2}\\right)\\left(3x^{2} - 6x + 3\\right) = 6x^{4} - 12x^{3} + 6x^{2} \\\\\n",
    "$$\n",
    "\n",
    "3. Tomamos el segundo término del polinomio $p(x)$ y realizamos lo mismo\n",
    "\n",
    "$$\n",
    " \\left(5x\\right)\\left(3x^{2} - 6x + 3\\right) = 15x^{3} - 30x^{2} + 15x\n",
    "$$\n",
    "\n",
    "4. Ídem\n",
    "\n",
    "$$\n",
    " \\left(-6\\right)\\left(3x^{2} - 6x + 3\\right) = -18x^{2} + 36x - 18\n",
    "$$\n",
    "\n",
    "5. Sumando los polinomios resultantes y reduciendo términos semejantes, tenemos\n",
    "\n",
    "$$\n",
    " \\begin{matrix}\n",
    "  & 6x^{4} & - 12x^{3} & + 6x^{2} &  & \\\\\n",
    "  + & & +15x^{3} & - 30x^{2} & + 15x & \\\\\n",
    "  & & & -18x^{2} & + 36x & - 18 \\\\\n",
    "  &---&---&---&---&--- \\\\\n",
    "  & 6x^{4} & +3x^{3} & -42x^{2} & +51x & -18\n",
    " \\end{matrix}\n",
    "$$\n",
    "\n",
    "$\\therefore p(x)\\cdot q(x) = 6x^{4} + 3x^{3} - 42x^{2} + 51x - 18$\n",
    "\n",
    "**Nota.** Cuando tenemos un monomio que multiplica a un polinomio, aplicamos la propiedad distributiva. Es decir\n",
    "\n",
    "$$\n",
    " 2x^{3}\\left(4x^{2} - 6x \\right) = 8x^{5} - 12x^{4}.\n",
    "$$"
   ]
  },
  {
   "cell_type": "markdown",
   "metadata": {},
   "source": [
    "#### Otra forma de resolver la multiplicación de polinomios\n",
    "\n",
    "$$\n",
    " \\begin{matrix}\n",
    "  & & 2x^{2} & + 5x & - 6 \\\\\n",
    "  & & 3x^{2} & - 6x & + 3 \\\\\n",
    "  ---&---&---&---&---\\\\\n",
    "  & & +6x^{2} & +15x & -18 \\\\\n",
    "  & -12x^{3} & -30x^{2} & +36x & \\\\\n",
    "  6x^{4} & +15x^{3} & -18x^{2} & & \\\\\n",
    "  ---&---&---&---&--- \\\\\n",
    "  +6x^{4} & +3x^{3} & -42x^{2} & + 51x & -18\n",
    " \\end{matrix}\n",
    "$$"
   ]
  },
  {
   "cell_type": "markdown",
   "metadata": {},
   "source": [
    "## Ejercicios\n",
    "\n",
    "1. $(x^{4} - 2x^{2} + 2)(x^{2} - 2x + 3)$\n",
    "2. $(3x^{2} - 5x)(2x^{3} + 4x^{2} - x + 2)$\n",
    "3. $(2x^{2} - 5x + 6)(3x^{4} - 5x^{3} - 6x^{2} + 4x - 3)$"
   ]
  },
  {
   "cell_type": "markdown",
   "metadata": {},
   "source": [
    "## Productos notables\n",
    "\n",
    "Son operaciones que podemos encontrar frecuentemente en la literatura para simplificar cálculos. Los más comunes son **suma por diferencia** y el **cuadrado de un binomio**.\n",
    "\n",
    "$$\n",
    " \\begin{aligned}\n",
    "  a(b + c) & = ab + ac \\\\\n",
    "  (a + b)(c + d) & = ac + (ad + bc) + bd \\\\\n",
    "  (a + b)(a - b) & = a^{2} - b^{2} \\\\\n",
    "  (a + b)(a + b) = (a + b)^{2} & = a^{2} + 2ab + b^{2} \\\\\n",
    "  (a - b)(a - b) = (a - b)^{2} & = a^{2} - 2ab + b^{2} \\\\\n",
    "  (a + b)(a + b)^{2} = (a + b)^{3} & = a^{3} + 3a^{2}b + 3ab^{2} + b^{3} \\\\\n",
    "  (a - b)(a - b)^{2} = (a - b)^{3} & = a^{3} - 3a^{2}b + 3ab^{2} - b^{3} \\\\\n",
    "  (a + b)(a^{2} - ab + b^{2}) & = a^{3} + b^{3} \\\\\n",
    "  (a - b)(a^{2} + ab + b^{2}) & = a^{3} - b^{3}\n",
    " \\end{aligned}\n",
    "$$"
   ]
  },
  {
   "cell_type": "markdown",
   "metadata": {},
   "source": [
    "## Ejercicios en clase\n",
    "\n",
    "Dados los siguientes polinomios\n",
    "\n",
    "$$\n",
    " p(x) = x^{2} - 1, \\quad q(x) = -3x^{3} + 4x^{2} - x - 2, \\quad r(x) = 4x-1,\n",
    "$$\n",
    "\n",
    "realice las siguientes operaciones:\n",
    "\n",
    "1. $2p(x) + 3q(x)$\n",
    "2. $p(x)\\cdot(-q(x))$\n",
    "3. Verifique que $p(x)\\cdot (q(x) + r(x)) = p(x)\\cdot q(x) + p(x)\\cdot r(x)$\n",
    "4. $(3x - 2)^{2}$\n",
    "5. $\\left(2a + \\frac{1}{3}\\right)^{3}$\n",
    "6. $3x^{2}(2x-1)$\n",
    "7. $-2x(-3x^{2} + x -1)$\n",
    "8. $(x - 2)(x + 3)$\n",
    "9. $(2x -5)(3x - 1)$\n",
    "10. $\\left( \\frac{3}{4} - 2m \\right)\\left( \\frac{3}{4} + 2m \\right)$\n",
    "11. $(3x + 2)(9x^{2} - 6x + 4)$\n",
    "12. $(x^{2} + 5x + 25)(x - 5)$\n",
    "13. Si $p(x) = 3x^{3} + 4x - 5$ y $q(x) = x^{2} - 1$, entonces\n",
    "    * $p(x) - x\\cdot q(x)$"
   ]
  },
  {
   "cell_type": "markdown",
   "metadata": {},
   "source": [
    "## Videos de consulta\n",
    "\n",
    "1. [Productos notables](https://www.youtube.com/watch?v=I1L8F3o93q0)\n",
    "2. [Cómo multiplicar binomios y polinomios](https://www.youtube.com/watch?v=ZHfq-9LrAsA)\n",
    "3. [Multiplicación de polinomios](https://www.youtube.com/watch?v=hlyBPkEJmXc)"
   ]
  },
  {
   "cell_type": "markdown",
   "metadata": {},
   "source": [
    "# Material de consulta\n",
    "\n",
    "1. Baldor, A. (2007). Álgebra. México DF: Grupo Patria Cultural.\n",
    "2. [Apolinar, E. S. (2011). Diccionario ilustrado de conceptos matemáticos. México: www.aprendematematicas.org.mx](http://wordpress.colegio-arcangel.com/matematicas/files/2012/10/DICM.pdf)"
   ]
  }
 ],
 "metadata": {
  "kernelspec": {
   "display_name": "Maxima",
   "language": "maxima",
   "name": "maxima"
  },
  "language_info": {
   "codemirror_mode": "maxima",
   "file_extension": ".mac",
   "mimetype": "text/x-maxima",
   "name": "maxima",
   "pygments_lexer": "maxima",
   "version": "5.44.0"
  }
 },
 "nbformat": 4,
 "nbformat_minor": 4
}
