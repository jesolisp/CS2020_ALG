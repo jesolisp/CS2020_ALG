{
 "cells": [
  {
   "cell_type": "markdown",
   "metadata": {},
   "source": [
    "![logoupemor](pictures/UPE_Firma_vert_morada-01.png)\n",
    "\n",
    "---"
   ]
  },
  {
   "cell_type": "markdown",
   "metadata": {},
   "source": [
    "# Álgebra\n",
    "## Curso de Selección 2020\n",
    "\n",
    "### Profr. Jesús Emmanuel Solís Pérez (jsolis@upemor.edu.mx)\n",
    "---"
   ]
  },
  {
   "cell_type": "markdown",
   "metadata": {},
   "source": [
    "# Unidad III. Despejes\n",
    "\n",
    "\n",
    "## Contenido\n",
    "- Factorización\n",
    "- Despejes\n",
    "- Problemas"
   ]
  },
  {
   "cell_type": "markdown",
   "metadata": {},
   "source": [
    "## Factores de un polinomio\n",
    "\n",
    "Es posible escribir un polinomio $p(x)$ como producto de factores de primer grado. Es decir, como factores lineales\n",
    "\n",
    "Por ejemplo, el polinomio\n",
    "\n",
    "$$\n",
    " p(x) = 2x^{3} + x^{2} - 7x - 6,\n",
    "$$\n",
    "se puede escribir como\n",
    "\n",
    "$$\n",
    " p(x) = (x − 2)(x + 1)(2x + 3).\n",
    "$$\n",
    "\n",
    "Estos son los factores de 1er grado de $p(x)$ de los cuáles podemos obtener sus ceros si hacemos lo siguiente\n",
    "\n",
    "* Primer cero \n",
    "\n",
    "$$\n",
    " x - 2 = 0 \\rightarrow x = 2,\n",
    "$$\n",
    "\n",
    "* Segundo cero\n",
    "\n",
    "$$\n",
    " x + 1 = 0 \\rightarrow x = -1,\n",
    "$$\n",
    "\n",
    "* Tercer cero\n",
    "\n",
    "$$\n",
    " 2x + 3 = 0 \\rightarrow 2x = -3 \\rightarrow x = -\\frac{3}{2}\n",
    "$$\n",
    "\n",
    "Si evaluamos cada una de estos ceros en $p(x)$ tenemos\n",
    "\n",
    "$$\n",
    " p(2) = 0, \\quad p(-1) = 0, \\quad p\\left(-\\frac{3}{2} \\right) = 0.\n",
    "$$\n",
    "\n",
    "### Teorema del residuo\n",
    "\n",
    "El valor $p(c)$ es el residuo de dividir $p(x)$ entre $(x-c)$."
   ]
  },
  {
   "cell_type": "markdown",
   "metadata": {},
   "source": [
    "### Teorema del factor\n",
    "Se dice que $x-c$ es un factor de $p(x)$ si al dividir $p(x)$ por $x-c$ su residuo es cero. Es decir, si $p(c) = 0$.\n",
    "\n",
    "Si\n",
    "\n",
    "$$\n",
    " p(x) = a\\left(x - c_{1}\\right)\\left(x - c_{2}\\right)\\dots\\left(x - c_{n}\\right)\n",
    "$$\n",
    "\n",
    "entonces\n",
    "\n",
    "$$\n",
    " \\left(x - c_{1}\\right)\\left(x - c_{2}\\right)\\dots\\left(x - c_{n}\\right)\n",
    "$$\n",
    "\n",
    "son factores de $p(x)$ y $c_{1}, c_{2}, \\dots, c_{n}$ son sus ceros.\n",
    "\n",
    "1. Los polinomios de **primer grado** son **primos**.\n",
    "2. Un polinomio $grado\\left\\{p(x)\\right\\} \\neq 0$ es primo si éste no puede ser expresado como el producto de dos polinomios de $grado\\left\\{p(x)\\right\\} > 0$"
   ]
  },
  {
   "cell_type": "markdown",
   "metadata": {},
   "source": [
    "## Descomposición de un polinomio en factores primos\n",
    "\n",
    "Una de las estrategias para descomponer en factores los polinomios no primos de grado dos es por medio del **método del tanteo** o la **cuadrática**."
   ]
  },
  {
   "cell_type": "markdown",
   "metadata": {},
   "source": [
    "### Método del tanteo\n",
    "\n",
    "$$\n",
    " p(x) = 4x^{2} + 5x - 6\n",
    "$$\n",
    "\n",
    "Para ello\n",
    "\n",
    "$$\n",
    " p(x) = (ax \\pm b)(cx \\pm d)\n",
    "$$\n",
    "\n",
    "necesitamos\n",
    "\n",
    "$$\n",
    " p(x) = 4x^{2} + 5x - 6 = (4x - 3)(x + 2)\n",
    "$$\n",
    "\n",
    "Aplicando el **Teorema del factor**, obtenemos\n",
    "\n",
    "$$\n",
    " p(x) = 4x^{2} + 5x - 6 = 4\\left(x - \\frac{3}{4}\\right)(x + 2),\n",
    "$$\n",
    "\n",
    "donde los ceros de $p(x)$ son $x = \\frac{3}{4}$ y $x = -2$."
   ]
  },
  {
   "cell_type": "markdown",
   "metadata": {},
   "source": [
    "### Método de la cuadrática o fórmula general\n",
    "\n",
    "Otro método para obtener los ceros de un polinomio de segundo grado y por consiguiente obtener sus factores es aplicando lo siguiente\n",
    "\n",
    "$$\n",
    " x = \\frac{-b \\pm \\sqrt{b^{2} - 4ac}}{2a},\n",
    "$$\n",
    "\n",
    "si partimos de la siguiente representación\n",
    "\n",
    "$$\n",
    " p(x) = ax^{2} \\pm bx \\pm c.\n",
    "$$\n",
    "\n",
    "**Ejemplo**\n",
    "Considere el polinomio $p(x)$ utilizado en el método del tanteo.\n",
    "\n",
    "$$\n",
    " p(x) = 4x^{2} + 5x - 6\n",
    "$$\n",
    "\n",
    "donde \n",
    "\n",
    "$$\n",
    " a = 4,\\quad b = 5, \\quad c = -6.\n",
    "$$\n",
    "\n",
    "Aplicando el método de la cuadrática, tenemos\n",
    "\n",
    "$$\n",
    " \\begin{aligned}\n",
    "  x &= \\frac{-(5) \\pm \\sqrt{(5)^{2} - 4(4)(-6)}}{2(4)}, \\\\\n",
    "  & = \\frac{-5 \\pm \\sqrt{25 - 4(4)(-6)}}{8} \\\\\n",
    "  & = \\frac{-5 \\pm \\sqrt{25 - 16(-6)}}{8} \\\\\n",
    "  & = \\frac{-5 \\pm \\sqrt{25 + 16(6)}}{8} \\\\\n",
    "  & = \\frac{-5 \\pm \\sqrt{25 + 16(6)}}{8} \\\\\n",
    "  & = \\frac{-5 \\pm \\sqrt{25 + 96}}{8} \\\\\n",
    "  & = \\frac{-5 \\pm \\sqrt{25 + 96}}{8} \\\\\n",
    "  & = \\frac{-5 \\pm \\sqrt{121}}{8} \\\\\n",
    "  & = \\frac{-5 \\pm 11}{8} \\\\\n",
    " \\end{aligned}\n",
    "$$\n",
    "\n",
    "Entonces\n",
    "\n",
    "$$\n",
    " x = \\frac{-5 + 11}{8} = \\frac{6}{8} = \\frac{3}{4}\n",
    "$$\n",
    "\n",
    "y\n",
    "\n",
    "$$\n",
    " x = \\frac{-5 - 11}{8} = \\frac{-16}{8} = -2\n",
    "$$\n",
    "\n",
    "Una vez obtenidos los ceros de $p(x)$ lo que hacemos es ponerlos como sus factores pero con signo contrario. Esto es\n",
    "\n",
    "$$\n",
    " p(x) = 4x^{2} + 5x - 6 = \\left(x - \\frac{3}{4}\\right)(x + 2)\n",
    "$$"
   ]
  },
  {
   "cell_type": "markdown",
   "metadata": {},
   "source": [
    "### Ejercicios de clase\n",
    "\n",
    "Hallar los factores de los siguientes polinomios aplicando el método del tanteo y el método de la cuadrática\n",
    "\n",
    "* $p(x) = 3x^{2} - 8x + 7$\n",
    "* $p(x) = x^{2} + 3x + 2$\n",
    "* $p(x) = x^{2} + 3x -10$\n",
    "* $p(x) = 3x^{2} - 10x - 8$"
   ]
  },
  {
   "cell_type": "markdown",
   "metadata": {},
   "source": [
    "## Videos de consulta\n",
    "\n",
    "1. [Hallar los ceros de un polinomio](https://www.youtube.com/watch?v=ib-r1z_3w0g)\n",
    "2. [Factorización por factor común](https://www.youtube.com/watch?v=uG1Bune1YUk)\n",
    "3. [Cómo factorizar binomios](https://www.youtube.com/watch?v=48TWmx7MBhs)\n",
    "4. [Factorización por factor común](https://www.youtube.com/watch?v=vgG2l5V6HG4)\n",
    "5. [Factorización por factor común con fracciones](https://www.youtube.com/watch?v=LpClRlGB6L0)"
   ]
  },
  {
   "cell_type": "markdown",
   "metadata": {},
   "source": [
    "# Material de consulta\n",
    "\n",
    "1. Baldor, A. (2007). Álgebra. México DF: Grupo Patria Cultural.\n",
    "2. [Apolinar, E. S. (2011). Diccionario ilustrado de conceptos matemáticos. México: www.aprendematematicas.org.mx](http://wordpress.colegio-arcangel.com/matematicas/files/2012/10/DICM.pdf)"
   ]
  }
 ],
 "metadata": {
  "kernelspec": {
   "display_name": "Maxima",
   "language": "maxima",
   "name": "maxima"
  },
  "language_info": {
   "codemirror_mode": "maxima",
   "file_extension": ".mac",
   "mimetype": "text/x-maxima",
   "name": "maxima",
   "pygments_lexer": "maxima",
   "version": "5.44.0"
  }
 },
 "nbformat": 4,
 "nbformat_minor": 4
}
