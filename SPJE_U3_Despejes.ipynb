{
 "cells": [
  {
   "cell_type": "markdown",
   "metadata": {},
   "source": [
    "![logoupemor](pictures/UPE_Firma_vert_morada-01.png)\n",
    "<h1>\n",
    "    <center>\n",
    "        Álgebra <br>\n",
    "        Curso de Selección 2020\n",
    "    </center>\n",
    "</h1>\n",
    "<h2>\n",
    "    <center>\n",
    "        Profr. Jesús Emmanuel Solís Pérez <a href=\"mailto:jsolis@upemor.edu.mx\">(jsolis@upemor.edu.mx)</a>\n",
    "    </center>\n",
    "</h2>"
   ]
  },
  {
   "cell_type": "markdown",
   "metadata": {},
   "source": [
    "# Unidad III. Despejes\n",
    "\n",
    "\n",
    "## Contenido\n",
    "- Factorización\n",
    "- Despejes\n",
    "- Problemas"
   ]
  }
 ],
 "metadata": {
  "kernelspec": {
   "display_name": "Maxima",
   "language": "maxima",
   "name": "maxima"
  },
  "language_info": {
   "codemirror_mode": "maxima",
   "file_extension": ".mac",
   "mimetype": "text/x-maxima",
   "name": "maxima",
   "pygments_lexer": "maxima",
   "version": "5.44.0"
  }
 },
 "nbformat": 4,
 "nbformat_minor": 4
}
