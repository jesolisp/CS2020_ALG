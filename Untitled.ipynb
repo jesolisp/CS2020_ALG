{
 "cells": [
  {
   "cell_type": "markdown",
   "metadata": {},
   "source": [
    "![logoupemor](pictures/UPE_Firma_vert_morada-01.png)\n",
    "\n",
    "---"
   ]
  },
  {
   "cell_type": "markdown",
   "metadata": {},
   "source": [
    "# Álgebra\n",
    "## Curso de Selección 2020\n",
    "\n",
    "### Profr. Jesús Emmanuel Solís Pérez (jsolis@upemor.edu.mx)\n",
    "---"
   ]
  },
  {
   "cell_type": "markdown",
   "metadata": {},
   "source": [
    "# Ejercicios de repaso\n",
    "\n",
    "* Despejar $y$\n",
    "$$\n",
    " xz - 2y(z - 2t) = z + y\n",
    "$$\n",
    "\n",
    "* Despejar $t$\n",
    "$$\n",
    " xz - 2y(z - 2t) = z + y\n",
    "$$\n",
    "\n",
    "* Despejar $y$\n",
    "$$\n",
    " wz - x(y - tx) = (w + 1)y\n",
    "$$\n",
    "\n",
    "* Despejar $y$\n",
    "\n",
    "$$\n",
    " \\frac{w}{z} - \\frac{xy}{1-x} - y = 0\n",
    "$$\n",
    "\n",
    "* Despejar $w$\n",
    "\n",
    "$$\n",
    " \\frac{w}{z} - \\frac{xy}{1-x} - y = 0\n",
    "$$\n",
    "\n",
    "* Despejar $F$ de\n",
    "\n",
    "$$\n",
    " C = \\frac{5}{9}(F-32)\n",
    "$$"
   ]
  }
 ],
 "metadata": {
  "kernelspec": {
   "display_name": "Maxima",
   "language": "maxima",
   "name": "maxima"
  },
  "language_info": {
   "codemirror_mode": "maxima",
   "file_extension": ".mac",
   "mimetype": "text/x-maxima",
   "name": "maxima",
   "pygments_lexer": "maxima",
   "version": "5.44.0"
  }
 },
 "nbformat": 4,
 "nbformat_minor": 4
}
